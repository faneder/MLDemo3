{
 "cells": [
  {
   "cell_type": "code",
   "execution_count": 11,
   "metadata": {
    "collapsed": true
   },
   "outputs": [
    {
     "name": "stdout",
     "output_type": "stream",
     "text": [
      "     sepal length (cm)  sepal width (cm)  petal length (cm)  petal width (cm)  \\\n0                  5.1               3.5                1.4               0.2   \n1                  4.9               3.0                1.4               0.2   \n2                  4.7               3.2                1.3               0.2   \n3                  4.6               3.1                1.5               0.2   \n4                  5.0               3.6                1.4               0.2   \n5                  5.4               3.9                1.7               0.4   \n6                  4.6               3.4                1.4               0.3   \n7                  5.0               3.4                1.5               0.2   \n8                  4.4               2.9                1.4               0.2   \n9                  4.9               3.1                1.5               0.1   \n10                 5.4               3.7                1.5               0.2   \n11                 4.8               3.4                1.6               0.2   \n12                 4.8               3.0                1.4               0.1   \n13                 4.3               3.0                1.1               0.1   \n14                 5.8               4.0                1.2               0.2   \n15                 5.7               4.4                1.5               0.4   \n16                 5.4               3.9                1.3               0.4   \n17                 5.1               3.5                1.4               0.3   \n18                 5.7               3.8                1.7               0.3   \n19                 5.1               3.8                1.5               0.3   \n20                 5.4               3.4                1.7               0.2   \n21                 5.1               3.7                1.5               0.4   \n22                 4.6               3.6                1.0               0.2   \n23                 5.1               3.3                1.7               0.5   \n24                 4.8               3.4                1.9               0.2   \n25                 5.0               3.0                1.6               0.2   \n26                 5.0               3.4                1.6               0.4   \n27                 5.2               3.5                1.5               0.2   \n28                 5.2               3.4                1.4               0.2   \n29                 4.7               3.2                1.6               0.2   \n..                 ...               ...                ...               ...   \n120                6.9               3.2                5.7               2.3   \n121                5.6               2.8                4.9               2.0   \n122                7.7               2.8                6.7               2.0   \n123                6.3               2.7                4.9               1.8   \n124                6.7               3.3                5.7               2.1   \n125                7.2               3.2                6.0               1.8   \n126                6.2               2.8                4.8               1.8   \n127                6.1               3.0                4.9               1.8   \n128                6.4               2.8                5.6               2.1   \n129                7.2               3.0                5.8               1.6   \n130                7.4               2.8                6.1               1.9   \n131                7.9               3.8                6.4               2.0   \n132                6.4               2.8                5.6               2.2   \n133                6.3               2.8                5.1               1.5   \n134                6.1               2.6                5.6               1.4   \n135                7.7               3.0                6.1               2.3   \n136                6.3               3.4                5.6               2.4   \n137                6.4               3.1                5.5               1.8   \n138                6.0               3.0                4.8               1.8   \n139                6.9               3.1                5.4               2.1   \n140                6.7               3.1                5.6               2.4   \n141                6.9               3.1                5.1               2.3   \n142                5.8               2.7                5.1               1.9   \n143                6.8               3.2                5.9               2.3   \n144                6.7               3.3                5.7               2.5   \n145                6.7               3.0                5.2               2.3   \n146                6.3               2.5                5.0               1.9   \n147                6.5               3.0                5.2               2.0   \n148                6.2               3.4                5.4               2.3   \n149                5.9               3.0                5.1               1.8   \n\n     target  \n0         0  \n1         0  \n2         0  \n3         0  \n4         0  \n5         0  \n6         0  \n7         0  \n8         0  \n9         0  \n10        0  \n11        0  \n12        0  \n13        0  \n14        0  \n15        0  \n16        0  \n17        0  \n18        0  \n19        0  \n20        0  \n21        0  \n22        0  \n23        0  \n24        0  \n25        0  \n26        0  \n27        0  \n28        0  \n29        0  \n..      ...  \n120       2  \n121       2  \n122       2  \n123       2  \n124       2  \n125       2  \n126       2  \n127       2  \n128       2  \n129       2  \n130       2  \n131       2  \n132       2  \n133       2  \n134       2  \n135       2  \n136       2  \n137       2  \n138       2  \n139       2  \n140       2  \n141       2  \n142       2  \n143       2  \n144       2  \n145       2  \n146       2  \n147       2  \n148       2  \n149       2  \n\n[150 rows x 5 columns]\n"
     ]
    }
   ],
   "source": [
    "from sklearn.datasets import load_iris\n",
    "import pandas as pd\n",
    "\n",
    "iris = load_iris()\n",
    "df = pd.DataFrame(iris[\"data\"], columns=iris['feature_names'])\n",
    "df[\"target\"] = iris[\"target\"]\n",
    "df.to_csv(\"iris.csv\", encoding=\"utf-8\", index=)\n",
    "print(df)"
   ]
  },
  {
   "cell_type": "code",
   "execution_count": 12,
   "metadata": {},
   "outputs": [],
   "source": []
  },
  {
   "cell_type": "code",
   "execution_count": 12,
   "metadata": {},
   "outputs": [],
   "source": []
  },
  {
   "cell_type": "code",
   "execution_count": null,
   "metadata": {},
   "outputs": [],
   "source": []
  }
 ],
 "metadata": {
  "kernelspec": {
   "display_name": "Python 3",
   "language": "python",
   "name": "python3"
  },
  "language_info": {
   "codemirror_mode": {
    "name": "ipython",
    "version": 3
   },
   "file_extension": ".py",
   "mimetype": "text/x-python",
   "name": "python",
   "nbconvert_exporter": "python",
   "pygments_lexer": "ipython3",
   "version": "3.6.0"
  }
 },
 "nbformat": 4,
 "nbformat_minor": 1
}
